{
 "cells": [
  {
   "cell_type": "code",
   "execution_count": 1,
   "metadata": {},
   "outputs": [
    {
     "name": "stdout",
     "output_type": "stream",
     "text": [
      "hello\n"
     ]
    }
   ],
   "source": [
    "#stack-concept\n",
    "\n"
   ]
  },
  {
   "cell_type": "code",
   "execution_count": 17,
   "metadata": {},
   "outputs": [
    {
     "data": {
      "text/plain": [
       "['a', 'b', 'c', 'd']"
      ]
     },
     "execution_count": 17,
     "metadata": {},
     "output_type": "execute_result"
    }
   ],
   "source": [
    "s=[]\n",
    "s.append(\"a\")\n",
    "s.append(\"b\")\n",
    "s.append(\"c\")\n",
    "s.append(\"d\")\n",
    "s"
   ]
  },
  {
   "cell_type": "code",
   "execution_count": 9,
   "metadata": {},
   "outputs": [
    {
     "data": {
      "text/plain": [
       "'d'"
      ]
     },
     "execution_count": 9,
     "metadata": {},
     "output_type": "execute_result"
    }
   ],
   "source": [
    "s[-1]"
   ]
  },
  {
   "cell_type": "code",
   "execution_count": 10,
   "metadata": {},
   "outputs": [
    {
     "data": {
      "text/plain": [
       "'d'"
      ]
     },
     "execution_count": 10,
     "metadata": {},
     "output_type": "execute_result"
    }
   ],
   "source": [
    "s.pop()"
   ]
  },
  {
   "cell_type": "code",
   "execution_count": 11,
   "metadata": {},
   "outputs": [
    {
     "data": {
      "text/plain": [
       "'c'"
      ]
     },
     "execution_count": 11,
     "metadata": {},
     "output_type": "execute_result"
    }
   ],
   "source": [
    "s.pop()"
   ]
  },
  {
   "cell_type": "code",
   "execution_count": 6,
   "metadata": {},
   "outputs": [
    {
     "data": {
      "text/plain": [
       "'b'"
      ]
     },
     "execution_count": 6,
     "metadata": {},
     "output_type": "execute_result"
    }
   ],
   "source": [
    "s.pop()"
   ]
  },
  {
   "cell_type": "code",
   "execution_count": 12,
   "metadata": {},
   "outputs": [],
   "source": [
    "from collections import deque\n",
    "stack=deque()\n"
   ]
  },
  {
   "cell_type": "code",
   "execution_count": 15,
   "metadata": {},
   "outputs": [
    {
     "data": {
      "text/plain": [
       "['__add__',\n",
       " '__class__',\n",
       " '__class_getitem__',\n",
       " '__contains__',\n",
       " '__copy__',\n",
       " '__delattr__',\n",
       " '__delitem__',\n",
       " '__dir__',\n",
       " '__doc__',\n",
       " '__eq__',\n",
       " '__format__',\n",
       " '__ge__',\n",
       " '__getattribute__',\n",
       " '__getitem__',\n",
       " '__getstate__',\n",
       " '__gt__',\n",
       " '__hash__',\n",
       " '__iadd__',\n",
       " '__imul__',\n",
       " '__init__',\n",
       " '__init_subclass__',\n",
       " '__iter__',\n",
       " '__le__',\n",
       " '__len__',\n",
       " '__lt__',\n",
       " '__mul__',\n",
       " '__ne__',\n",
       " '__new__',\n",
       " '__reduce__',\n",
       " '__reduce_ex__',\n",
       " '__repr__',\n",
       " '__reversed__',\n",
       " '__rmul__',\n",
       " '__setattr__',\n",
       " '__setitem__',\n",
       " '__sizeof__',\n",
       " '__str__',\n",
       " '__subclasshook__',\n",
       " 'append',\n",
       " 'appendleft',\n",
       " 'clear',\n",
       " 'copy',\n",
       " 'count',\n",
       " 'extend',\n",
       " 'extendleft',\n",
       " 'index',\n",
       " 'insert',\n",
       " 'maxlen',\n",
       " 'pop',\n",
       " 'popleft',\n",
       " 'remove',\n",
       " 'reverse',\n",
       " 'rotate']"
      ]
     },
     "execution_count": 15,
     "metadata": {},
     "output_type": "execute_result"
    }
   ],
   "source": [
    "dir(stack)"
   ]
  },
  {
   "cell_type": "code",
   "execution_count": 23,
   "metadata": {},
   "outputs": [
    {
     "data": {
      "text/plain": [
       "deque(['a', 'b', 'c'])"
      ]
     },
     "execution_count": 23,
     "metadata": {},
     "output_type": "execute_result"
    }
   ],
   "source": [
    "stack.append(\"a\")\n",
    "stack.append(\"b\")\n",
    "stack.append(\"c\")\n",
    "stack"
   ]
  },
  {
   "cell_type": "code",
   "execution_count": 26,
   "metadata": {},
   "outputs": [
    {
     "data": {
      "text/plain": [
       "'b'"
      ]
     },
     "execution_count": 26,
     "metadata": {},
     "output_type": "execute_result"
    }
   ],
   "source": [
    "stack.pop()"
   ]
  },
  {
   "cell_type": "code",
   "execution_count": 25,
   "metadata": {},
   "outputs": [
    {
     "data": {
      "text/plain": [
       "deque(['a', 'b'])"
      ]
     },
     "execution_count": 25,
     "metadata": {},
     "output_type": "execute_result"
    }
   ],
   "source": [
    "stack"
   ]
  },
  {
   "cell_type": "code",
   "execution_count": 2,
   "metadata": {},
   "outputs": [
    {
     "ename": "NameError",
     "evalue": "name 'is_balanced' is not defined",
     "output_type": "error",
     "traceback": [
      "\u001b[0;31m---------------------------------------------------------------------------\u001b[0m",
      "\u001b[0;31mNameError\u001b[0m                                 Traceback (most recent call last)",
      "Cell \u001b[0;32mIn[2], line 71\u001b[0m\n\u001b[1;32m     60\u001b[0m    s\u001b[38;5;241m=\u001b[39mStack()\n\u001b[1;32m     61\u001b[0m   \u001b[38;5;66;03m# s.push(1)\u001b[39;00m\n\u001b[1;32m     62\u001b[0m  \u001b[38;5;66;03m#  s.push(2)\u001b[39;00m\n\u001b[1;32m     63\u001b[0m  \u001b[38;5;66;03m#  s.display()\u001b[39;00m\n\u001b[0;32m   (...)\u001b[0m\n\u001b[1;32m     69\u001b[0m  \u001b[38;5;66;03m#  s.rev()\u001b[39;00m\n\u001b[1;32m     70\u001b[0m \u001b[38;5;66;03m#   s.display(\u001b[39;00m\n\u001b[0;32m---> 71\u001b[0m    \u001b[38;5;28mprint\u001b[39m(is_balanced(\u001b[38;5;124m\"\u001b[39m\u001b[38;5;124m(\u001b[39m\u001b[38;5;124m{\u001b[39m\u001b[38;5;124ma+b})\u001b[39m\u001b[38;5;124m\"\u001b[39m))\n\u001b[1;32m     72\u001b[0m    \u001b[38;5;28mprint\u001b[39m(is_balanced(\u001b[38;5;124m\"\u001b[39m\u001b[38;5;124m))((a+b}\u001b[39m\u001b[38;5;124m{\u001b[39m\u001b[38;5;124m\"\u001b[39m))\n\u001b[1;32m     73\u001b[0m    \u001b[38;5;28mprint\u001b[39m(is_balanced(\u001b[38;5;124m\"\u001b[39m\u001b[38;5;124m((a+b))\u001b[39m\u001b[38;5;124m\"\u001b[39m))\n",
      "\u001b[0;31mNameError\u001b[0m: name 'is_balanced' is not defined"
     ]
    }
   ],
   "source": [
    "#stack\n",
    " #list collection.deque\n",
    "from collections import deque\n",
    "\n",
    "class Stack:\n",
    "    def __init__(self):\n",
    "        self.container=deque()\n",
    "    \n",
    "    def push(self,val):\n",
    "        self.container.append(val)\n",
    "\n",
    "    def pop(self):\n",
    "        return self.container.pop()\n",
    "    \n",
    "    def peek(self):#fetching 1 st value of stack wt changing the stack\n",
    "        print(self.container[-1])\n",
    "    \n",
    "    def is_empty(self):\n",
    "        if (len(self.container)==0):\n",
    "            print(\"empty\")\n",
    "        else:\n",
    "          print(\"list has elements\")    \n",
    "    def size(self):\n",
    "        return(len(self.container))\n",
    "\n",
    "    def rev(self):\n",
    "       return self.container.reverse()\n",
    "    \n",
    "    def display(self):\n",
    "        print(self.container)\n",
    "    \n",
    "\n",
    "    def less(ch1,ch2):\n",
    "      match_dict={\n",
    "          ')':'(',\n",
    "          ']':'[',\n",
    "          '}' : '}'\n",
    "        }\n",
    "      return match_dict[ch1] == ch2\n",
    "    \n",
    "    def is_balanced(s):\n",
    "        stack=Stack()\n",
    "        for ch in s:\n",
    "            if ch=='(' or ch=='{' or ch=='[':\n",
    "                stack.push(ch)\n",
    "\n",
    "            if ch==')' or ch=='}' or ch==']':\n",
    "                if stack.size()==0:\n",
    "                    return False\n",
    "                else:\n",
    "                    not less(ch,stack.pop())\n",
    "                    return False\n",
    "                \n",
    "        return stack.size==0\n",
    "\n",
    "\n",
    "    \n",
    "\n",
    "if __name__==\"__main__\":\n",
    "    s=Stack()\n",
    "   # s.push(1)\n",
    "  #  s.push(2)\n",
    "  #  s.display()\n",
    "    #s.pop()\n",
    "  #  s.is_empty()\n",
    "  #  s.peek()\n",
    "   # s.display()\n",
    "  #  s.size()\n",
    "  #  s.rev()\n",
    " #   s.display(\n",
    "    print(is_balanced(\"({a+b})\"))\n",
    "    print(is_balanced(\"))((a+b}{\"))\n",
    "    print(is_balanced(\"((a+b))\"))\n",
    "    print(is_balanced(\"((a+g))\"))\n",
    "    print(is_balanced(\"))\"))\n",
    "    print(is_balanced(\"[a+b]*(x+2y)*{gg+kk}\"))\n",
    "\n",
    "    \n",
    "    "
   ]
  }
 ],
 "metadata": {
  "kernelspec": {
   "display_name": "base",
   "language": "python",
   "name": "python3"
  },
  "language_info": {
   "codemirror_mode": {
    "name": "ipython",
    "version": 3
   },
   "file_extension": ".py",
   "mimetype": "text/x-python",
   "name": "python",
   "nbconvert_exporter": "python",
   "pygments_lexer": "ipython3",
   "version": "3.11.5"
  }
 },
 "nbformat": 4,
 "nbformat_minor": 2
}
