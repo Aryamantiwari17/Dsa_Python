{
 "cells": [
  {
   "cell_type": "code",
   "execution_count": 34,
   "metadata": {},
   "outputs": [
    {
     "name": "stdout",
     "output_type": "stream",
     "text": [
      "hello\n"
     ]
    }
   ],
   "source": [
    "print(\"hello\")"
   ]
  },
  {
   "cell_type": "code",
   "execution_count": 35,
   "metadata": {},
   "outputs": [],
   "source": [
    "def get_hash(key):\n",
    "    h=0\n",
    "    for char in key :\n",
    "     h+=ord(char)\n",
    "    return h%100\n"
   ]
  },
  {
   "cell_type": "code",
   "execution_count": 36,
   "metadata": {},
   "outputs": [
    {
     "data": {
      "text/plain": [
       "9"
      ]
     },
     "execution_count": 36,
     "metadata": {},
     "output_type": "execute_result"
    }
   ],
   "source": [
    "get_hash(\"march 6\")"
   ]
  },
  {
   "cell_type": "code",
   "execution_count": 37,
   "metadata": {},
   "outputs": [],
   "source": [
    "class HashTable:\n",
    "    def __init__(self):\n",
    "        self.MAX=100\n",
    "        self.arr=[None for i in range(self.MAX) ]\n",
    "    \n",
    "    def get_hash(self,key):\n",
    "        h=0\n",
    "        for char in key:\n",
    "            h+=ord(char)#ord uni code generate hota haii\n",
    "        return h % self.MAX\n",
    "    \n",
    "    def add(self,key,val):\n",
    "        h=self.get_hash(key)\n",
    "        self.arr[h]==val\n",
    "       \n",
    "    \n",
    "    def get(self,key):\n",
    "        h=self.get_hash(key)\n",
    "        return self.arr[h]"
   ]
  },
  {
   "cell_type": "code",
   "execution_count": 47,
   "metadata": {},
   "outputs": [],
   "source": [
    "t=HashTable()\n",
    "t.add(\"march 6\",130)"
   ]
  },
  {
   "cell_type": "code",
   "execution_count": 41,
   "metadata": {},
   "outputs": [],
   "source": [
    "t.get(\"march 6\")"
   ]
  },
  {
   "cell_type": "code",
   "execution_count": 53,
   "metadata": {},
   "outputs": [
    {
     "data": {
      "text/plain": [
       "9"
      ]
     },
     "execution_count": 53,
     "metadata": {},
     "output_type": "execute_result"
    }
   ],
   "source": [
    "t.get_hash(\"march 6\")"
   ]
  },
  {
   "cell_type": "code",
   "execution_count": 54,
   "metadata": {},
   "outputs": [
    {
     "data": {
      "text/plain": [
       "59"
      ]
     },
     "execution_count": 54,
     "metadata": {},
     "output_type": "execute_result"
    }
   ],
   "source": [
    "t.get_hash(\"march 17\")"
   ]
  },
  {
   "cell_type": "code",
   "execution_count": 48,
   "metadata": {},
   "outputs": [],
   "source": [
    "def __setitem__(self,key,val):\n",
    "    h=self.get_hash(key)\n",
    "    self.arr[h]=val"
   ]
  },
  {
   "cell_type": "code",
   "execution_count": 49,
   "metadata": {},
   "outputs": [],
   "source": [
    "def __delitem__(self,key):\n",
    "    h=self.get_hash(key)\n",
    "    self.arr[h]=None\n"
   ]
  },
  {
   "cell_type": "code",
   "execution_count": 82,
   "metadata": {},
   "outputs": [],
   "source": [
    "#how to handle  collision in hash table\n",
    "#hash table is a data structure that uses a hash function to compute an index into an array of\n",
    "#buckets or slots, from which the desired value can be found.\n",
    "\n",
    "\n",
    "class HashTable:\n",
    "    def __init__(self):\n",
    "        self.MAX=100\n",
    "        self.arr=[[  ] for i in range(self.MAX) ]\n",
    "    \n",
    "    def get_hash(self,key):\n",
    "        h=0\n",
    "        for char in key:\n",
    "            h+=ord(char)#ord uni code generate hota haii\n",
    "        return h % self.MAX\n",
    "    \n",
    "    def __setitem__(self,key,val):\n",
    "      h=self.get_hash(key)\n",
    "      self.arr[h]=val\n",
    "\n",
    "    \n",
    "    def get_item(self,key):\n",
    "        h=self.get_hash(key)\n",
    "        return self.arr[h]\n",
    "    \n",
    "    def setitem(self,key,value):#we need to intialize the linked list\n",
    "        h=self.get_hash(key)\n",
    "        for idx,element in enumerate(self,arr[h]):#enumerate means irrate in an array\n",
    "\n",
    "            if len(element)==2 and element[0]==key :\n",
    "               self.arr[h][idx]=(key,val)\n",
    "               found=True\n",
    "               break\n",
    "        if not found:\n",
    "         self.arr[h].append((key,val))\n",
    "         \n",
    "  "
   ]
  },
  {
   "cell_type": "code",
   "execution_count": 83,
   "metadata": {},
   "outputs": [],
   "source": [
    "t=HashTable()\n",
    "\n"
   ]
  },
  {
   "cell_type": "code",
   "execution_count": 84,
   "metadata": {},
   "outputs": [],
   "source": [
    "t[\"march 6\"]=120\n",
    "t[\"march 17\"]=459\n",
    "t[\"march 6 \"]=23"
   ]
  },
  {
   "cell_type": "code",
   "execution_count": 93,
   "metadata": {},
   "outputs": [
    {
     "ename": "TypeError",
     "evalue": "'HashTable' object is not subscriptable",
     "output_type": "error",
     "traceback": [
      "\u001b[0;31m---------------------------------------------------------------------------\u001b[0m",
      "\u001b[0;31mTypeError\u001b[0m                                 Traceback (most recent call last)",
      "Cell \u001b[0;32mIn[93], line 1\u001b[0m\n\u001b[0;32m----> 1\u001b[0m t[\u001b[38;5;124m\"\u001b[39m\u001b[38;5;124mmarch 6\u001b[39m\u001b[38;5;124m\"\u001b[39m]\n",
      "\u001b[0;31mTypeError\u001b[0m: 'HashTable' object is not subscriptable"
     ]
    }
   ],
   "source": [
    "t[\"march 6\"]"
   ]
  },
  {
   "cell_type": "code",
   "execution_count": null,
   "metadata": {},
   "outputs": [],
   "source": []
  }
 ],
 "metadata": {
  "kernelspec": {
   "display_name": "gemini",
   "language": "python",
   "name": "python3"
  },
  "language_info": {
   "codemirror_mode": {
    "name": "ipython",
    "version": 3
   },
   "file_extension": ".py",
   "mimetype": "text/x-python",
   "name": "python",
   "nbconvert_exporter": "python",
   "pygments_lexer": "ipython3",
   "version": "3.11.5"
  }
 },
 "nbformat": 4,
 "nbformat_minor": 2
}
